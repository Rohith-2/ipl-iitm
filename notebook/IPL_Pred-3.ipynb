{
 "cells": [
  {
   "cell_type": "code",
   "execution_count": 1,
   "metadata": {},
   "outputs": [
    {
     "name": "stderr",
     "output_type": "stream",
     "text": [
      "Using TensorFlow backend.\n"
     ]
    }
   ],
   "source": [
    "import numpy as np\n",
    "import pandas as pd\n",
    "from sklearn.model_selection import train_test_split\n",
    "from sklearn import preprocessing\n",
    "from keras import regularizers\n",
    "from keras.models import Sequential\n",
    "from keras.layers import Dense\n",
    "import keras\n",
    "import tensorflow as tf\n",
    "import os\n",
    "os.getcwd()\n",
    "os.chdir(\"/Volumes/Rohith/ipl-iit/\")"
   ]
  },
  {
   "cell_type": "code",
   "execution_count": 2,
   "metadata": {},
   "outputs": [
    {
     "name": "stderr",
     "output_type": "stream",
     "text": [
      "/Users/rohith/opt/anaconda3/lib/python3.8/site-packages/IPython/core/interactiveshell.py:3165: DtypeWarning: Columns (1) have mixed types.Specify dtype option on import or set low_memory=False.\n",
      "  has_raised = await self.run_ast_nodes(code_ast.body, cell_name,\n"
     ]
    }
   ],
   "source": [
    "data = pd.read_csv('all_matches.csv')"
   ]
  },
  {
   "cell_type": "code",
   "execution_count": 3,
   "metadata": {},
   "outputs": [],
   "source": [
    "data.drop(columns=[\"match_id\", \"season\",\"start_date\"], inplace=True)"
   ]
  },
  {
   "cell_type": "code",
   "execution_count": 4,
   "metadata": {},
   "outputs": [],
   "source": [
    "data_n1 = data.to_numpy()"
   ]
  },
  {
   "cell_type": "code",
   "execution_count": 5,
   "metadata": {},
   "outputs": [],
   "source": [
    "players = np.append(np.unique(np.append(np.unique(np.append(np.unique(data['striker']),np.unique(data['non_striker']))),np.unique(data['bowler']))),\"Shahrukh Khan\")"
   ]
  },
  {
   "cell_type": "code",
   "execution_count": 6,
   "metadata": {},
   "outputs": [],
   "source": [
    "def create_train_data(data_n):\n",
    "    T = [[]]\n",
    "    for i in data_n:\n",
    "        t = []\n",
    "        t.extend([i[0], i[1], i[3], i[4], [], []])\n",
    "        if(float(i[2]) < 6.0):\n",
    "            if(i[5] not in t[4]):\n",
    "                t[4].extend([i[5]])\n",
    "            if(i[6] not in t[4]):\n",
    "                t[4].extend([i[6]])\n",
    "            if(i[7] not in t[5]):\n",
    "                t[5].extend([i[7]])\n",
    "\n",
    "            if(t[0] not in T[-1]):\n",
    "                T.append(t)\n",
    "    #         if(t not in T):\n",
    "    #             T.append(t)\n",
    "\n",
    "\n",
    "            if(t[0] in T[-1]):\n",
    "                if(t[1] not in T[-1]):\n",
    "                    T.append(t)\n",
    "\n",
    "                if(t[1] in T[-1]):\n",
    "                    for k in range(len(t[4])):\n",
    "                        if(t[4][k] not in T[-1][4]):\n",
    "                            T[-1][4].extend([t[4][k]])\n",
    "                    for k in range(len(t[5])):\n",
    "                        if(t[5][k] not in T[-1][5]):\n",
    "                            T[-1][5].extend([t[5][k]])\n",
    "    T.pop(0)\n",
    "    \n",
    "    # mearging bats and bowls\n",
    "   # for i in range(len(T)):\n",
    "    #    T[i][4].extend(T[i][5])\n",
    "     #   T[i].pop(5)\n",
    "    \n",
    "    # Mearging bowlers and bats with total\n",
    "   # for i in range(len(T)):\n",
    "    #    T[i].extend(T[i][4])\n",
    "     #   T[i].pop(4)\n",
    "    return T"
   ]
  },
  {
   "cell_type": "code",
   "execution_count": 7,
   "metadata": {},
   "outputs": [],
   "source": [
    "input_data = create_train_data(data_n1)"
   ]
  },
  {
   "cell_type": "code",
   "execution_count": 8,
   "metadata": {},
   "outputs": [],
   "source": [
    "def score_list(ddd1):\n",
    "    sum_ = ddd1[0][8]+ddd1[0][9]\n",
    "    yy = []\n",
    "    for i in range(1, len(ddd1)):\n",
    "        if(int(ddd1[i][2])<6.0):\n",
    "            if(ddd1[i][1] == ddd1[i-1][1] and ddd1[i][0] == ddd1[i-1][0]):\n",
    "                sum_ += ddd1[i][8]+ddd1[i][9]\n",
    "\n",
    "            elif(ddd1[i][1] != ddd1[i-1][1] and ddd1[i][0] != ddd1[i-1][0]):\n",
    "                yy.append(sum_)\n",
    "                sum_ = ddd1[i][8]+ddd1[i][9]\n",
    "\n",
    "            elif(ddd1[i][1] != ddd1[i-1][1] and ddd1[i][0] == ddd1[i-1][0]):\n",
    "                yy.append(sum_)\n",
    "                sum_ = ddd1[i][8]+ddd1[i][9]\n",
    "\n",
    "            elif(ddd1[i][1] == ddd1[i-1][1] and ddd1[i][0] != ddd1[i-1][0]):\n",
    "                yy.append(sum_)\n",
    "                sum_ = ddd1[i][8]+ddd1[i][9]\n",
    "            \n",
    "            else:\n",
    "                print(ddd1[i])\n",
    "         \n",
    "#         if(i == len(ddd1)-1):\n",
    "#             yy.append(sum_)\n",
    "#   print()         sum_ = 0\n",
    "    yy.append(sum_)\n",
    "    return yy"
   ]
  },
  {
   "cell_type": "code",
   "execution_count": 9,
   "metadata": {},
   "outputs": [],
   "source": [
    "y = np.array(score_list(data_n1))"
   ]
  },
  {
   "cell_type": "code",
   "execution_count": 10,
   "metadata": {},
   "outputs": [],
   "source": [
    "ylist = y.tolist()"
   ]
  },
  {
   "cell_type": "code",
   "execution_count": 11,
   "metadata": {},
   "outputs": [],
   "source": [
    "ylist.extend([26,32,46,45,55,39,32,55,54,45,32,59,21,45,25,50,51,65,51,56,37,42,36,43,39,50,47,49,45,67,49,36,49,58,42,57,39,63])\n",
    "y = np.array(ylist)"
   ]
  },
  {
   "cell_type": "code",
   "execution_count": 12,
   "metadata": {},
   "outputs": [],
   "source": [
    "max_bat=0\n",
    "max_bowl=0\n",
    "for i in input_data:\n",
    "    if len(i[4])>max_bat:\n",
    "        max_bat = len(i[4])\n",
    "    if len(i[5])>max_bowl:\n",
    "        max_bowl = len(i[5])"
   ]
  },
  {
   "cell_type": "code",
   "execution_count": 13,
   "metadata": {},
   "outputs": [
    {
     "data": {
      "text/plain": [
       "1702"
      ]
     },
     "execution_count": 13,
     "metadata": {},
     "output_type": "execute_result"
    }
   ],
   "source": [
    "len(y)"
   ]
  },
  {
   "cell_type": "code",
   "execution_count": 14,
   "metadata": {},
   "outputs": [],
   "source": [
    "for i in input_data:\n",
    "    for j in range(max_bat-len(i[4])):\n",
    "        i[4].extend([\"_\"])\n",
    "    for j in range(max_bowl-len(i[5])):\n",
    "        i[5].extend([\"_\"])"
   ]
  },
  {
   "cell_type": "code",
   "execution_count": 15,
   "metadata": {},
   "outputs": [],
   "source": [
    "T = input_data"
   ]
  },
  {
   "cell_type": "code",
   "execution_count": 16,
   "metadata": {},
   "outputs": [],
   "source": [
    "import glob\n",
    "path = \"Archive/\" # use your path\n",
    "all_files = glob.glob(path + \"/*.csv\")\n",
    "li = []\n",
    "for filename in all_files:\n",
    "    df = pd.read_csv(filename, index_col=None, header=0)\n",
    "    li.append(df)\n",
    "frame = pd.concat(li, axis=0, ignore_index=True)"
   ]
  },
  {
   "cell_type": "code",
   "execution_count": 17,
   "metadata": {},
   "outputs": [],
   "source": [
    "input_1 = frame.values.tolist()\n",
    "for i in input_1:\n",
    "    i[4] = i[4].split(\",\")\n",
    "    i[5] = i[5].split(\",\")\n",
    "for i in input_1:\n",
    "    for j in range(max_bat-len(i[4])):\n",
    "        i[4].extend([\"_\"])\n",
    "    for j in range(max_bowl-len(i[5])):\n",
    "        i[5].extend([\"_\"])"
   ]
  },
  {
   "cell_type": "code",
   "execution_count": 18,
   "metadata": {},
   "outputs": [],
   "source": [
    "T.extend(input_1[::-1])"
   ]
  },
  {
   "cell_type": "code",
   "execution_count": 19,
   "metadata": {},
   "outputs": [],
   "source": [
    " # mearging bats and bowls\n",
    "for i in range(len(T)):\n",
    "        T[i][4].extend(T[i][5])\n",
    "        T[i].pop(5)\n",
    "    \n",
    "    #Mearging bowlers and bats with total\n",
    "for i in range(len(T)):\n",
    "    T[i].extend(T[i][4])\n",
    "    T[i].pop(4)"
   ]
  },
  {
   "cell_type": "code",
   "execution_count": 20,
   "metadata": {},
   "outputs": [],
   "source": [
    "X = pd.DataFrame(T)"
   ]
  },
  {
   "cell_type": "code",
   "execution_count": 21,
   "metadata": {},
   "outputs": [
    {
     "data": {
      "text/html": [
       "<div>\n",
       "<style scoped>\n",
       "    .dataframe tbody tr th:only-of-type {\n",
       "        vertical-align: middle;\n",
       "    }\n",
       "\n",
       "    .dataframe tbody tr th {\n",
       "        vertical-align: top;\n",
       "    }\n",
       "\n",
       "    .dataframe thead th {\n",
       "        text-align: right;\n",
       "    }\n",
       "</style>\n",
       "<table border=\"1\" class=\"dataframe\">\n",
       "  <thead>\n",
       "    <tr style=\"text-align: right;\">\n",
       "      <th></th>\n",
       "      <th>0</th>\n",
       "      <th>1</th>\n",
       "      <th>2</th>\n",
       "      <th>3</th>\n",
       "      <th>4</th>\n",
       "      <th>5</th>\n",
       "      <th>6</th>\n",
       "      <th>7</th>\n",
       "      <th>8</th>\n",
       "      <th>9</th>\n",
       "      <th>10</th>\n",
       "      <th>11</th>\n",
       "      <th>12</th>\n",
       "      <th>13</th>\n",
       "      <th>14</th>\n",
       "      <th>15</th>\n",
       "      <th>16</th>\n",
       "      <th>17</th>\n",
       "      <th>18</th>\n",
       "    </tr>\n",
       "  </thead>\n",
       "  <tbody>\n",
       "    <tr>\n",
       "      <th>15</th>\n",
       "      <td>MA Chidambaram Stadium, Chepauk</td>\n",
       "      <td>2</td>\n",
       "      <td>Mumbai Indians</td>\n",
       "      <td>Chennai Super Kings</td>\n",
       "      <td>L Ronchi</td>\n",
       "      <td>ST Jayasuriya</td>\n",
       "      <td>RV Uthappa</td>\n",
       "      <td>SM Pollock</td>\n",
       "      <td>_</td>\n",
       "      <td>_</td>\n",
       "      <td>_</td>\n",
       "      <td>_</td>\n",
       "      <td>_</td>\n",
       "      <td>JDP Oram</td>\n",
       "      <td>MS Gony</td>\n",
       "      <td>_</td>\n",
       "      <td>_</td>\n",
       "      <td>_</td>\n",
       "      <td>_</td>\n",
       "    </tr>\n",
       "    <tr>\n",
       "      <th>16</th>\n",
       "      <td>Rajiv Gandhi International Stadium, Uppal</td>\n",
       "      <td>1</td>\n",
       "      <td>Deccan Chargers</td>\n",
       "      <td>Rajasthan Royals</td>\n",
       "      <td>AC Gilchrist</td>\n",
       "      <td>VVS Laxman</td>\n",
       "      <td>Shahid Afridi</td>\n",
       "      <td>A Symonds</td>\n",
       "      <td>_</td>\n",
       "      <td>_</td>\n",
       "      <td>_</td>\n",
       "      <td>_</td>\n",
       "      <td>_</td>\n",
       "      <td>MM Patel</td>\n",
       "      <td>SR Watson</td>\n",
       "      <td>YK Pathan</td>\n",
       "      <td>_</td>\n",
       "      <td>_</td>\n",
       "      <td>_</td>\n",
       "    </tr>\n",
       "    <tr>\n",
       "      <th>17</th>\n",
       "      <td>Rajiv Gandhi International Stadium, Uppal</td>\n",
       "      <td>2</td>\n",
       "      <td>Rajasthan Royals</td>\n",
       "      <td>Deccan Chargers</td>\n",
       "      <td>Kamran Akmal</td>\n",
       "      <td>GC Smith</td>\n",
       "      <td>YK Pathan</td>\n",
       "      <td>_</td>\n",
       "      <td>_</td>\n",
       "      <td>_</td>\n",
       "      <td>_</td>\n",
       "      <td>_</td>\n",
       "      <td>_</td>\n",
       "      <td>WPUJC Vaas</td>\n",
       "      <td>RP Singh</td>\n",
       "      <td>PP Ojha</td>\n",
       "      <td>_</td>\n",
       "      <td>_</td>\n",
       "      <td>_</td>\n",
       "    </tr>\n",
       "    <tr>\n",
       "      <th>18</th>\n",
       "      <td>Punjab Cricket Association Stadium, Mohali</td>\n",
       "      <td>1</td>\n",
       "      <td>Kings XI Punjab</td>\n",
       "      <td>Mumbai Indians</td>\n",
       "      <td>K Goel</td>\n",
       "      <td>IK Pathan</td>\n",
       "      <td>KC Sangakkara</td>\n",
       "      <td>_</td>\n",
       "      <td>_</td>\n",
       "      <td>_</td>\n",
       "      <td>_</td>\n",
       "      <td>_</td>\n",
       "      <td>_</td>\n",
       "      <td>SM Pollock</td>\n",
       "      <td>A Nehra</td>\n",
       "      <td>DS Kulkarni</td>\n",
       "      <td>_</td>\n",
       "      <td>_</td>\n",
       "      <td>_</td>\n",
       "    </tr>\n",
       "    <tr>\n",
       "      <th>19</th>\n",
       "      <td>Punjab Cricket Association Stadium, Mohali</td>\n",
       "      <td>2</td>\n",
       "      <td>Mumbai Indians</td>\n",
       "      <td>Kings XI Punjab</td>\n",
       "      <td>L Ronchi</td>\n",
       "      <td>ST Jayasuriya</td>\n",
       "      <td>RV Uthappa</td>\n",
       "      <td>DJ Bravo</td>\n",
       "      <td>_</td>\n",
       "      <td>_</td>\n",
       "      <td>_</td>\n",
       "      <td>_</td>\n",
       "      <td>_</td>\n",
       "      <td>B Lee</td>\n",
       "      <td>IK Pathan</td>\n",
       "      <td>VRV Singh</td>\n",
       "      <td>S Sreesanth</td>\n",
       "      <td>_</td>\n",
       "      <td>_</td>\n",
       "    </tr>\n",
       "    <tr>\n",
       "      <th>...</th>\n",
       "      <td>...</td>\n",
       "      <td>...</td>\n",
       "      <td>...</td>\n",
       "      <td>...</td>\n",
       "      <td>...</td>\n",
       "      <td>...</td>\n",
       "      <td>...</td>\n",
       "      <td>...</td>\n",
       "      <td>...</td>\n",
       "      <td>...</td>\n",
       "      <td>...</td>\n",
       "      <td>...</td>\n",
       "      <td>...</td>\n",
       "      <td>...</td>\n",
       "      <td>...</td>\n",
       "      <td>...</td>\n",
       "      <td>...</td>\n",
       "      <td>...</td>\n",
       "      <td>...</td>\n",
       "    </tr>\n",
       "    <tr>\n",
       "      <th>1697</th>\n",
       "      <td>Narendra Modi Stadium</td>\n",
       "      <td>2</td>\n",
       "      <td>Kolkata Knight Riders</td>\n",
       "      <td>Punjab Kings</td>\n",
       "      <td>N Rana</td>\n",
       "      <td>Shubman Gill</td>\n",
       "      <td>RA Tripathi</td>\n",
       "      <td>SP Narine</td>\n",
       "      <td>EJG Morgan</td>\n",
       "      <td>_</td>\n",
       "      <td>_</td>\n",
       "      <td>_</td>\n",
       "      <td>_</td>\n",
       "      <td>Mohammed Shami</td>\n",
       "      <td>MC Henriques</td>\n",
       "      <td>Arshdeep Singh</td>\n",
       "      <td>_</td>\n",
       "      <td>_</td>\n",
       "      <td>_</td>\n",
       "    </tr>\n",
       "    <tr>\n",
       "      <th>1698</th>\n",
       "      <td>Narendra Modi Stadium</td>\n",
       "      <td>1</td>\n",
       "      <td>Royal Challengers Bangalore</td>\n",
       "      <td>Delhi Capitals</td>\n",
       "      <td>D Padikkal</td>\n",
       "      <td>V Kohli</td>\n",
       "      <td>GJ Maxwell</td>\n",
       "      <td>RM Patidar</td>\n",
       "      <td>_</td>\n",
       "      <td>_</td>\n",
       "      <td>_</td>\n",
       "      <td>_</td>\n",
       "      <td>_</td>\n",
       "      <td>K Rabada</td>\n",
       "      <td>I Sharma</td>\n",
       "      <td>Avesh Khan</td>\n",
       "      <td>_</td>\n",
       "      <td>_</td>\n",
       "      <td>_</td>\n",
       "    </tr>\n",
       "    <tr>\n",
       "      <th>1699</th>\n",
       "      <td>Narendra Modi Stadium</td>\n",
       "      <td>2</td>\n",
       "      <td>Delhi Capitals</td>\n",
       "      <td>Royal Challengers Bangalore</td>\n",
       "      <td>PP Shaw</td>\n",
       "      <td>S Dhawan</td>\n",
       "      <td>SPD Smith</td>\n",
       "      <td>RR Pant</td>\n",
       "      <td>_</td>\n",
       "      <td>_</td>\n",
       "      <td>_</td>\n",
       "      <td>_</td>\n",
       "      <td>_</td>\n",
       "      <td>DR Sams</td>\n",
       "      <td>Mohammed Siraj</td>\n",
       "      <td>Kyle Jamieson</td>\n",
       "      <td>_</td>\n",
       "      <td>_</td>\n",
       "      <td>_</td>\n",
       "    </tr>\n",
       "    <tr>\n",
       "      <th>1700</th>\n",
       "      <td>Arun Jaitley Stadium</td>\n",
       "      <td>1</td>\n",
       "      <td>Sunrisers Hyderabad</td>\n",
       "      <td>Chennai Super Kings</td>\n",
       "      <td>DA Warner</td>\n",
       "      <td>JM Bairstow</td>\n",
       "      <td>MK Pandey</td>\n",
       "      <td>_</td>\n",
       "      <td>_</td>\n",
       "      <td>_</td>\n",
       "      <td>_</td>\n",
       "      <td>_</td>\n",
       "      <td>_</td>\n",
       "      <td>DL Chahar</td>\n",
       "      <td>SM Curran</td>\n",
       "      <td>_</td>\n",
       "      <td>_</td>\n",
       "      <td>_</td>\n",
       "      <td>_</td>\n",
       "    </tr>\n",
       "    <tr>\n",
       "      <th>1701</th>\n",
       "      <td>Arun Jaitley Stadium</td>\n",
       "      <td>2</td>\n",
       "      <td>Chennai Super Kings</td>\n",
       "      <td>Sunrisers Hyderabad</td>\n",
       "      <td>RD Gaikwad</td>\n",
       "      <td>F du Plessis</td>\n",
       "      <td>_</td>\n",
       "      <td>_</td>\n",
       "      <td>_</td>\n",
       "      <td>_</td>\n",
       "      <td>_</td>\n",
       "      <td>_</td>\n",
       "      <td>_</td>\n",
       "      <td>Sandeep Sharma</td>\n",
       "      <td>KK Ahmed</td>\n",
       "      <td>S Kaul</td>\n",
       "      <td>_</td>\n",
       "      <td>_</td>\n",
       "      <td>_</td>\n",
       "    </tr>\n",
       "  </tbody>\n",
       "</table>\n",
       "<p>1687 rows × 19 columns</p>\n",
       "</div>"
      ],
      "text/plain": [
       "                                              0   1   \\\n",
       "15               MA Chidambaram Stadium, Chepauk   2   \n",
       "16     Rajiv Gandhi International Stadium, Uppal   1   \n",
       "17     Rajiv Gandhi International Stadium, Uppal   2   \n",
       "18    Punjab Cricket Association Stadium, Mohali   1   \n",
       "19    Punjab Cricket Association Stadium, Mohali   2   \n",
       "...                                          ...  ..   \n",
       "1697                       Narendra Modi Stadium   2   \n",
       "1698                       Narendra Modi Stadium   1   \n",
       "1699                       Narendra Modi Stadium   2   \n",
       "1700                        Arun Jaitley Stadium   1   \n",
       "1701                        Arun Jaitley Stadium   2   \n",
       "\n",
       "                               2                            3             4   \\\n",
       "15                 Mumbai Indians          Chennai Super Kings      L Ronchi   \n",
       "16                Deccan Chargers             Rajasthan Royals  AC Gilchrist   \n",
       "17               Rajasthan Royals              Deccan Chargers  Kamran Akmal   \n",
       "18                Kings XI Punjab               Mumbai Indians        K Goel   \n",
       "19                 Mumbai Indians              Kings XI Punjab      L Ronchi   \n",
       "...                           ...                          ...           ...   \n",
       "1697        Kolkata Knight Riders                 Punjab Kings        N Rana   \n",
       "1698  Royal Challengers Bangalore               Delhi Capitals    D Padikkal   \n",
       "1699               Delhi Capitals  Royal Challengers Bangalore       PP Shaw   \n",
       "1700          Sunrisers Hyderabad          Chennai Super Kings     DA Warner   \n",
       "1701          Chennai Super Kings          Sunrisers Hyderabad    RD Gaikwad   \n",
       "\n",
       "                 5              6           7           8  9  10 11 12  \\\n",
       "15    ST Jayasuriya     RV Uthappa  SM Pollock           _  _  _  _  _   \n",
       "16       VVS Laxman  Shahid Afridi   A Symonds           _  _  _  _  _   \n",
       "17         GC Smith      YK Pathan           _           _  _  _  _  _   \n",
       "18        IK Pathan  KC Sangakkara           _           _  _  _  _  _   \n",
       "19    ST Jayasuriya     RV Uthappa    DJ Bravo           _  _  _  _  _   \n",
       "...             ...            ...         ...         ... .. .. .. ..   \n",
       "1697   Shubman Gill    RA Tripathi   SP Narine  EJG Morgan  _  _  _  _   \n",
       "1698        V Kohli     GJ Maxwell  RM Patidar           _  _  _  _  _   \n",
       "1699       S Dhawan      SPD Smith     RR Pant           _  _  _  _  _   \n",
       "1700    JM Bairstow      MK Pandey           _           _  _  _  _  _   \n",
       "1701   F du Plessis              _           _           _  _  _  _  _   \n",
       "\n",
       "                  13              14              15           16 17 18  \n",
       "15          JDP Oram         MS Gony               _            _  _  _  \n",
       "16          MM Patel       SR Watson       YK Pathan            _  _  _  \n",
       "17        WPUJC Vaas        RP Singh         PP Ojha            _  _  _  \n",
       "18        SM Pollock         A Nehra     DS Kulkarni            _  _  _  \n",
       "19             B Lee       IK Pathan       VRV Singh  S Sreesanth  _  _  \n",
       "...              ...             ...             ...          ... .. ..  \n",
       "1697  Mohammed Shami    MC Henriques  Arshdeep Singh            _  _  _  \n",
       "1698        K Rabada        I Sharma      Avesh Khan            _  _  _  \n",
       "1699         DR Sams  Mohammed Siraj   Kyle Jamieson            _  _  _  \n",
       "1700       DL Chahar       SM Curran               _            _  _  _  \n",
       "1701  Sandeep Sharma        KK Ahmed          S Kaul            _  _  _  \n",
       "\n",
       "[1687 rows x 19 columns]"
      ]
     },
     "execution_count": 21,
     "metadata": {},
     "output_type": "execute_result"
    }
   ],
   "source": [
    "X.tail(-15)"
   ]
  },
  {
   "cell_type": "code",
   "execution_count": 22,
   "metadata": {},
   "outputs": [],
   "source": [
    "X.to_csv(\"X.csv\")"
   ]
  },
  {
   "cell_type": "code",
   "execution_count": 23,
   "metadata": {},
   "outputs": [],
   "source": [
    "pd.DataFrame(y).to_csv(\"y.csv\")"
   ]
  },
  {
   "cell_type": "code",
   "execution_count": 24,
   "metadata": {},
   "outputs": [],
   "source": [
    "XY = X.copy()\n",
    "XY[\"Score\"] = y"
   ]
  },
  {
   "cell_type": "code",
   "execution_count": 25,
   "metadata": {},
   "outputs": [],
   "source": [
    "XY.to_csv(\"XV.csv\")"
   ]
  },
  {
   "cell_type": "code",
   "execution_count": 26,
   "metadata": {},
   "outputs": [],
   "source": [
    "from sklearn import preprocessing\n",
    "#le_stadium = preprocessing.LabelEncoder()\n",
    "#le_stadium.fit(X[0])\n",
    "#X[0] = le_stadium.transform(X[0])\n",
    "\n",
    "le_teams = preprocessing.LabelEncoder()\n",
    "le_teams.fit(X[2])\n",
    "X[2] = le_teams.transform(X[2])\n",
    "X[3] = le_teams.transform(X[3])"
   ]
  },
  {
   "cell_type": "code",
   "execution_count": 27,
   "metadata": {},
   "outputs": [],
   "source": [
    "X_modified = []\n",
    "for i in range(4,X.shape[1]):\n",
    "    X_modified.extend(X[i])"
   ]
  },
  {
   "cell_type": "code",
   "execution_count": 28,
   "metadata": {},
   "outputs": [],
   "source": [
    "for i in X_modified:\n",
    "    if(i == None):\n",
    "        print(i)"
   ]
  },
  {
   "cell_type": "code",
   "execution_count": 29,
   "metadata": {},
   "outputs": [],
   "source": [
    "p = players.tolist()\n",
    "p.extend([\"Jhye Richardson\",\"Chetan Sakariya\",\"Fabian Allen\",'Riley Meredith','D Malan',\"_\"])\n",
    "players = np.array(p)"
   ]
  },
  {
   "cell_type": "code",
   "execution_count": 30,
   "metadata": {},
   "outputs": [
    {
     "data": {
      "text/plain": [
       "590"
      ]
     },
     "execution_count": 30,
     "metadata": {},
     "output_type": "execute_result"
    }
   ],
   "source": [
    "players.shape[0]"
   ]
  },
  {
   "cell_type": "code",
   "execution_count": 31,
   "metadata": {},
   "outputs": [],
   "source": [
    "le_players = preprocessing.LabelEncoder().fit(players)"
   ]
  },
  {
   "cell_type": "code",
   "execution_count": 32,
   "metadata": {},
   "outputs": [],
   "source": [
    "X.replace(\"F Du Plessis\",\"F du Plessis\",inplace=True)\n",
    "X.replace(\"J Buttler\",\"JC Buttler\",inplace=True)\n",
    "X.replace(\"P Cummins\",\"PJ Cummins\",inplace=True)\n",
    "X.replace(\"Kyle Jamieson\",\"KA Jamieson\",inplace=True)"
   ]
  },
  {
   "cell_type": "code",
   "execution_count": 33,
   "metadata": {},
   "outputs": [],
   "source": [
    "for i in range(4,X.shape[1]):\n",
    "    X[i] = le_players.transform(X[i])"
   ]
  },
  {
   "cell_type": "code",
   "execution_count": 34,
   "metadata": {},
   "outputs": [
    {
     "data": {
      "text/html": [
       "<div>\n",
       "<style scoped>\n",
       "    .dataframe tbody tr th:only-of-type {\n",
       "        vertical-align: middle;\n",
       "    }\n",
       "\n",
       "    .dataframe tbody tr th {\n",
       "        vertical-align: top;\n",
       "    }\n",
       "\n",
       "    .dataframe thead th {\n",
       "        text-align: right;\n",
       "    }\n",
       "</style>\n",
       "<table border=\"1\" class=\"dataframe\">\n",
       "  <thead>\n",
       "    <tr style=\"text-align: right;\">\n",
       "      <th></th>\n",
       "      <th>0</th>\n",
       "      <th>1</th>\n",
       "      <th>2</th>\n",
       "      <th>3</th>\n",
       "      <th>4</th>\n",
       "      <th>5</th>\n",
       "      <th>6</th>\n",
       "      <th>7</th>\n",
       "      <th>8</th>\n",
       "      <th>9</th>\n",
       "      <th>10</th>\n",
       "      <th>11</th>\n",
       "      <th>12</th>\n",
       "      <th>13</th>\n",
       "      <th>14</th>\n",
       "      <th>15</th>\n",
       "      <th>16</th>\n",
       "      <th>17</th>\n",
       "      <th>18</th>\n",
       "    </tr>\n",
       "  </thead>\n",
       "  <tbody>\n",
       "    <tr>\n",
       "      <th>0</th>\n",
       "      <td>M Chinnaswamy Stadium</td>\n",
       "      <td>1</td>\n",
       "      <td>7</td>\n",
       "      <td>14</td>\n",
       "      <td>474</td>\n",
       "      <td>83</td>\n",
       "      <td>435</td>\n",
       "      <td>589</td>\n",
       "      <td>589</td>\n",
       "      <td>589</td>\n",
       "      <td>589</td>\n",
       "      <td>589</td>\n",
       "      <td>589</td>\n",
       "      <td>369</td>\n",
       "      <td>588</td>\n",
       "      <td>21</td>\n",
       "      <td>589</td>\n",
       "      <td>589</td>\n",
       "      <td>589</td>\n",
       "    </tr>\n",
       "    <tr>\n",
       "      <th>1</th>\n",
       "      <td>M Chinnaswamy Stadium</td>\n",
       "      <td>2</td>\n",
       "      <td>14</td>\n",
       "      <td>7</td>\n",
       "      <td>398</td>\n",
       "      <td>569</td>\n",
       "      <td>557</td>\n",
       "      <td>217</td>\n",
       "      <td>114</td>\n",
       "      <td>334</td>\n",
       "      <td>589</td>\n",
       "      <td>589</td>\n",
       "      <td>589</td>\n",
       "      <td>24</td>\n",
       "      <td>193</td>\n",
       "      <td>22</td>\n",
       "      <td>589</td>\n",
       "      <td>589</td>\n",
       "      <td>589</td>\n",
       "    </tr>\n",
       "    <tr>\n",
       "      <th>2</th>\n",
       "      <td>Punjab Cricket Association Stadium, Mohali</td>\n",
       "      <td>1</td>\n",
       "      <td>0</td>\n",
       "      <td>5</td>\n",
       "      <td>377</td>\n",
       "      <td>322</td>\n",
       "      <td>309</td>\n",
       "      <td>589</td>\n",
       "      <td>589</td>\n",
       "      <td>589</td>\n",
       "      <td>589</td>\n",
       "      <td>589</td>\n",
       "      <td>589</td>\n",
       "      <td>77</td>\n",
       "      <td>462</td>\n",
       "      <td>231</td>\n",
       "      <td>589</td>\n",
       "      <td>589</td>\n",
       "      <td>589</td>\n",
       "    </tr>\n",
       "    <tr>\n",
       "      <th>3</th>\n",
       "      <td>Punjab Cricket Association Stadium, Mohali</td>\n",
       "      <td>2</td>\n",
       "      <td>5</td>\n",
       "      <td>0</td>\n",
       "      <td>237</td>\n",
       "      <td>231</td>\n",
       "      <td>248</td>\n",
       "      <td>589</td>\n",
       "      <td>589</td>\n",
       "      <td>589</td>\n",
       "      <td>589</td>\n",
       "      <td>589</td>\n",
       "      <td>589</td>\n",
       "      <td>213</td>\n",
       "      <td>332</td>\n",
       "      <td>589</td>\n",
       "      <td>589</td>\n",
       "      <td>589</td>\n",
       "      <td>589</td>\n",
       "    </tr>\n",
       "    <tr>\n",
       "      <th>4</th>\n",
       "      <td>Feroz Shah Kotla</td>\n",
       "      <td>1</td>\n",
       "      <td>11</td>\n",
       "      <td>3</td>\n",
       "      <td>533</td>\n",
       "      <td>582</td>\n",
       "      <td>501</td>\n",
       "      <td>287</td>\n",
       "      <td>589</td>\n",
       "      <td>589</td>\n",
       "      <td>589</td>\n",
       "      <td>589</td>\n",
       "      <td>589</td>\n",
       "      <td>172</td>\n",
       "      <td>74</td>\n",
       "      <td>310</td>\n",
       "      <td>589</td>\n",
       "      <td>589</td>\n",
       "      <td>589</td>\n",
       "    </tr>\n",
       "  </tbody>\n",
       "</table>\n",
       "</div>"
      ],
      "text/plain": [
       "                                           0   1   2   3    4    5    6    7   \\\n",
       "0                       M Chinnaswamy Stadium   1   7  14  474   83  435  589   \n",
       "1                       M Chinnaswamy Stadium   2  14   7  398  569  557  217   \n",
       "2  Punjab Cricket Association Stadium, Mohali   1   0   5  377  322  309  589   \n",
       "3  Punjab Cricket Association Stadium, Mohali   2   5   0  237  231  248  589   \n",
       "4                            Feroz Shah Kotla   1  11   3  533  582  501  287   \n",
       "\n",
       "    8    9    10   11   12   13   14   15   16   17   18  \n",
       "0  589  589  589  589  589  369  588   21  589  589  589  \n",
       "1  114  334  589  589  589   24  193   22  589  589  589  \n",
       "2  589  589  589  589  589   77  462  231  589  589  589  \n",
       "3  589  589  589  589  589  213  332  589  589  589  589  \n",
       "4  589  589  589  589  589  172   74  310  589  589  589  "
      ]
     },
     "execution_count": 34,
     "metadata": {},
     "output_type": "execute_result"
    }
   ],
   "source": [
    "X.head()"
   ]
  },
  {
   "cell_type": "code",
   "execution_count": 35,
   "metadata": {},
   "outputs": [],
   "source": [
    "le_stad = {'Arun Jaitley Stadium':0, 'Barabati Stadium':1, 'Brabourne Stadium':2,\n",
    "       'Buffalo Park':3, 'De Beers Diamond Oval':4,\n",
    "       'Dr DY Patil Sports Academy':5,\n",
    "       'Dr. Y.S. Rajasekhara Reddy ACA-VDCA Cricket Stadium':6,\n",
    "       'Dubai International Cricket Stadium':7, 'Eden Gardens':8,\n",
    "       'Feroz Shah Kotla':9, 'Green Park':10,\n",
    "       'Himachal Pradesh Cricket Association Stadium':11,\n",
    "       'Holkar Cricket Stadium':12, 'JSCA International Stadium Complex':13,\n",
    "       'Kingsmead':14, 'M Chinnaswamy Stadium':15, 'M.Chinnaswamy Stadium':15,\n",
    "       'MA Chidambaram Stadium':16, 'MA Chidambaram Stadium, Chepauk':16,\n",
    "       'MA Chidambaram Stadium, Chepauk, Chennai':16,\n",
    "       'Maharashtra Cricket Association Stadium':17, 'Nehru Stadium':18,\n",
    "       'New Wanderers Stadium':19, 'Newlands':20, 'OUTsurance Oval':21,\n",
    "       'Punjab Cricket Association IS Bindra Stadium':22,\n",
    "       'Punjab Cricket Association IS Bindra Stadium, Mohali':22,\n",
    "       'Punjab Cricket Association Stadium, Mohali':22,\n",
    "       'Rajiv Gandhi International Stadium':23,\n",
    "       'Rajiv Gandhi International Stadium, Uppal':23,\n",
    "       'Sardar Patel Stadium, Motera':24,\n",
    "       'Saurashtra Cricket Association Stadium':25, 'Sawai Mansingh Stadium':26,\n",
    "       'Shaheed Veer Narayan Singh International Stadium':27,\n",
    "       'Sharjah Cricket Stadium':28, 'Sheikh Zayed Stadium':29,\n",
    "       \"St George's Park\":30, 'Subrata Roy Sahara Stadium':31,\n",
    "       'SuperSport Park':32, 'Vidarbha Cricket Association Stadium, Jamtha':33,\n",
    "       'Wankhede Stadium':34, 'Wankhede Stadium, Mumbai':34,'Narendra Modi Stadium':35,'Arun Jaitley Stadium':36}"
   ]
  },
  {
   "cell_type": "code",
   "execution_count": 36,
   "metadata": {},
   "outputs": [],
   "source": [
    "X_s = []\n",
    "for i in X[0]:\n",
    "    X_s.append(le_stad[i])"
   ]
  },
  {
   "cell_type": "code",
   "execution_count": 37,
   "metadata": {},
   "outputs": [],
   "source": [
    "X[0] = X_s"
   ]
  },
  {
   "cell_type": "code",
   "execution_count": 38,
   "metadata": {},
   "outputs": [],
   "source": [
    "X.replace(players.shape[0]-1,-1,inplace=True)"
   ]
  },
  {
   "cell_type": "code",
   "execution_count": 39,
   "metadata": {},
   "outputs": [
    {
     "data": {
      "text/html": [
       "<div>\n",
       "<style scoped>\n",
       "    .dataframe tbody tr th:only-of-type {\n",
       "        vertical-align: middle;\n",
       "    }\n",
       "\n",
       "    .dataframe tbody tr th {\n",
       "        vertical-align: top;\n",
       "    }\n",
       "\n",
       "    .dataframe thead th {\n",
       "        text-align: right;\n",
       "    }\n",
       "</style>\n",
       "<table border=\"1\" class=\"dataframe\">\n",
       "  <thead>\n",
       "    <tr style=\"text-align: right;\">\n",
       "      <th></th>\n",
       "      <th>0</th>\n",
       "      <th>1</th>\n",
       "      <th>2</th>\n",
       "      <th>3</th>\n",
       "      <th>4</th>\n",
       "      <th>5</th>\n",
       "      <th>6</th>\n",
       "      <th>7</th>\n",
       "      <th>8</th>\n",
       "      <th>9</th>\n",
       "      <th>10</th>\n",
       "      <th>11</th>\n",
       "      <th>12</th>\n",
       "      <th>13</th>\n",
       "      <th>14</th>\n",
       "      <th>15</th>\n",
       "      <th>16</th>\n",
       "      <th>17</th>\n",
       "      <th>18</th>\n",
       "    </tr>\n",
       "  </thead>\n",
       "  <tbody>\n",
       "    <tr>\n",
       "      <th>0</th>\n",
       "      <td>15</td>\n",
       "      <td>1</td>\n",
       "      <td>7</td>\n",
       "      <td>14</td>\n",
       "      <td>474</td>\n",
       "      <td>83</td>\n",
       "      <td>435</td>\n",
       "      <td>-1</td>\n",
       "      <td>-1</td>\n",
       "      <td>-1</td>\n",
       "      <td>-1</td>\n",
       "      <td>-1</td>\n",
       "      <td>-1</td>\n",
       "      <td>369</td>\n",
       "      <td>588</td>\n",
       "      <td>21</td>\n",
       "      <td>-1</td>\n",
       "      <td>-1</td>\n",
       "      <td>-1</td>\n",
       "    </tr>\n",
       "    <tr>\n",
       "      <th>1</th>\n",
       "      <td>15</td>\n",
       "      <td>2</td>\n",
       "      <td>14</td>\n",
       "      <td>7</td>\n",
       "      <td>398</td>\n",
       "      <td>569</td>\n",
       "      <td>557</td>\n",
       "      <td>217</td>\n",
       "      <td>114</td>\n",
       "      <td>334</td>\n",
       "      <td>-1</td>\n",
       "      <td>-1</td>\n",
       "      <td>-1</td>\n",
       "      <td>24</td>\n",
       "      <td>193</td>\n",
       "      <td>22</td>\n",
       "      <td>-1</td>\n",
       "      <td>-1</td>\n",
       "      <td>-1</td>\n",
       "    </tr>\n",
       "    <tr>\n",
       "      <th>2</th>\n",
       "      <td>22</td>\n",
       "      <td>1</td>\n",
       "      <td>0</td>\n",
       "      <td>5</td>\n",
       "      <td>377</td>\n",
       "      <td>322</td>\n",
       "      <td>309</td>\n",
       "      <td>-1</td>\n",
       "      <td>-1</td>\n",
       "      <td>-1</td>\n",
       "      <td>-1</td>\n",
       "      <td>-1</td>\n",
       "      <td>-1</td>\n",
       "      <td>77</td>\n",
       "      <td>462</td>\n",
       "      <td>231</td>\n",
       "      <td>-1</td>\n",
       "      <td>-1</td>\n",
       "      <td>-1</td>\n",
       "    </tr>\n",
       "    <tr>\n",
       "      <th>3</th>\n",
       "      <td>22</td>\n",
       "      <td>2</td>\n",
       "      <td>5</td>\n",
       "      <td>0</td>\n",
       "      <td>237</td>\n",
       "      <td>231</td>\n",
       "      <td>248</td>\n",
       "      <td>-1</td>\n",
       "      <td>-1</td>\n",
       "      <td>-1</td>\n",
       "      <td>-1</td>\n",
       "      <td>-1</td>\n",
       "      <td>-1</td>\n",
       "      <td>213</td>\n",
       "      <td>332</td>\n",
       "      <td>-1</td>\n",
       "      <td>-1</td>\n",
       "      <td>-1</td>\n",
       "      <td>-1</td>\n",
       "    </tr>\n",
       "    <tr>\n",
       "      <th>4</th>\n",
       "      <td>9</td>\n",
       "      <td>1</td>\n",
       "      <td>11</td>\n",
       "      <td>3</td>\n",
       "      <td>533</td>\n",
       "      <td>582</td>\n",
       "      <td>501</td>\n",
       "      <td>287</td>\n",
       "      <td>-1</td>\n",
       "      <td>-1</td>\n",
       "      <td>-1</td>\n",
       "      <td>-1</td>\n",
       "      <td>-1</td>\n",
       "      <td>172</td>\n",
       "      <td>74</td>\n",
       "      <td>310</td>\n",
       "      <td>-1</td>\n",
       "      <td>-1</td>\n",
       "      <td>-1</td>\n",
       "    </tr>\n",
       "  </tbody>\n",
       "</table>\n",
       "</div>"
      ],
      "text/plain": [
       "   0   1   2   3    4    5    6    7    8    9   10  11  12   13   14   15  \\\n",
       "0  15   1   7  14  474   83  435   -1   -1   -1  -1  -1  -1  369  588   21   \n",
       "1  15   2  14   7  398  569  557  217  114  334  -1  -1  -1   24  193   22   \n",
       "2  22   1   0   5  377  322  309   -1   -1   -1  -1  -1  -1   77  462  231   \n",
       "3  22   2   5   0  237  231  248   -1   -1   -1  -1  -1  -1  213  332   -1   \n",
       "4   9   1  11   3  533  582  501  287   -1   -1  -1  -1  -1  172   74  310   \n",
       "\n",
       "   16  17  18  \n",
       "0  -1  -1  -1  \n",
       "1  -1  -1  -1  \n",
       "2  -1  -1  -1  \n",
       "3  -1  -1  -1  \n",
       "4  -1  -1  -1  "
      ]
     },
     "execution_count": 39,
     "metadata": {},
     "output_type": "execute_result"
    }
   ],
   "source": [
    "X.head()"
   ]
  },
  {
   "cell_type": "code",
   "execution_count": 40,
   "metadata": {},
   "outputs": [
    {
     "ename": "NameError",
     "evalue": "name 'xScaled' is not defined",
     "output_type": "error",
     "traceback": [
      "\u001b[0;31m---------------------------------------------------------------------------\u001b[0m",
      "\u001b[0;31mNameError\u001b[0m                                 Traceback (most recent call last)",
      "\u001b[0;32m<ipython-input-40-f1e3c5fc53e6>\u001b[0m in \u001b[0;36m<module>\u001b[0;34m\u001b[0m\n\u001b[1;32m      1\u001b[0m \u001b[0;32mimport\u001b[0m \u001b[0mpickle\u001b[0m\u001b[0;34m\u001b[0m\u001b[0;34m\u001b[0m\u001b[0m\n\u001b[1;32m      2\u001b[0m \u001b[0mscalerfile\u001b[0m \u001b[0;34m=\u001b[0m \u001b[0;34m'DataScaler.sav'\u001b[0m\u001b[0;34m\u001b[0m\u001b[0;34m\u001b[0m\u001b[0m\n\u001b[0;32m----> 3\u001b[0;31m \u001b[0mpickle\u001b[0m\u001b[0;34m.\u001b[0m\u001b[0mdump\u001b[0m\u001b[0;34m(\u001b[0m\u001b[0mxScaled\u001b[0m\u001b[0;34m,\u001b[0m \u001b[0mopen\u001b[0m\u001b[0;34m(\u001b[0m\u001b[0mscalerfile\u001b[0m\u001b[0;34m,\u001b[0m \u001b[0;34m'wb'\u001b[0m\u001b[0;34m)\u001b[0m\u001b[0;34m)\u001b[0m\u001b[0;34m\u001b[0m\u001b[0;34m\u001b[0m\u001b[0m\n\u001b[0m",
      "\u001b[0;31mNameError\u001b[0m: name 'xScaled' is not defined"
     ]
    }
   ],
   "source": [
    "import pickle\n",
    "scalerfile = 'DataScaler.sav'\n",
    "pickle.dump(xScaled, open(scalerfile, 'wb'))"
   ]
  },
  {
   "cell_type": "code",
   "execution_count": 41,
   "metadata": {},
   "outputs": [],
   "source": [
    "scalerfile = 'le_stadium.pkl'\n",
    "pickle.dump(le_stad, open(scalerfile, 'wb'))"
   ]
  },
  {
   "cell_type": "code",
   "execution_count": 42,
   "metadata": {},
   "outputs": [],
   "source": [
    "#np.save('le_stadium.npy', le_stad)\n",
    "np.save('le_teams.npy', le_teams.classes_)\n",
    "np.save('le_players.npy', le_players.classes_)"
   ]
  },
  {
   "cell_type": "code",
   "execution_count": 43,
   "metadata": {},
   "outputs": [],
   "source": [
    "y = np.array(y)\n",
    "my = max(y)\n",
    "y1 = y/my"
   ]
  },
  {
   "cell_type": "code",
   "execution_count": 44,
   "metadata": {},
   "outputs": [
    {
     "data": {
      "text/plain": [
       "105"
      ]
     },
     "execution_count": 44,
     "metadata": {},
     "output_type": "execute_result"
    }
   ],
   "source": [
    "my"
   ]
  },
  {
   "cell_type": "code",
   "execution_count": 45,
   "metadata": {},
   "outputs": [],
   "source": [
    "Xtrain, Xtest, ytrain, ytest = train_test_split(X,y, test_size=0.1)"
   ]
  },
  {
   "cell_type": "code",
   "execution_count": 46,
   "metadata": {},
   "outputs": [
    {
     "data": {
      "text/plain": [
       "(1531, 19)"
      ]
     },
     "execution_count": 46,
     "metadata": {},
     "output_type": "execute_result"
    }
   ],
   "source": [
    "Xtrain.shape"
   ]
  },
  {
   "cell_type": "code",
   "execution_count": 47,
   "metadata": {},
   "outputs": [
    {
     "data": {
      "text/plain": [
       "(1531,)"
      ]
     },
     "execution_count": 47,
     "metadata": {},
     "output_type": "execute_result"
    }
   ],
   "source": [
    "ytrain.shape"
   ]
  },
  {
   "cell_type": "code",
   "execution_count": 48,
   "metadata": {},
   "outputs": [],
   "source": [
    "XY = X.copy()\n",
    "XY[\"Score\"] = y\n",
    "XY.to_csv(\"XY_coded.csv\")"
   ]
  },
  {
   "cell_type": "code",
   "execution_count": null,
   "metadata": {},
   "outputs": [],
   "source": [
    "NN_model = Sequential()\n",
    "\n",
    "# The Input Layer :\n",
    "NN_model.add(Dense(69, kernel_initializer='normal',input_dim = Xtrain.shape[1], activation='relu'))\n",
    "\n",
    "# The Hidden Layers :\n",
    "NN_model.add(Dense(69, kernel_initializer='normal',activation='relu'))\n",
    "NN_model.add(Dense(69, kernel_initializer='normal',activation='relu'))\n",
    "\n",
    "\n",
    "# The Output Layer :\n",
    "NN_model.add(Dense(1, kernel_initializer='normal',activation='linear'))\n",
    "optimizer = keras.optimizers.Adam(lr=0.001, decay=5e-4)\n",
    "# Compile the network :\n",
    "NN_model.compile(loss='mean_absolute_error', optimizer=optimizer, metrics=['mean_absolute_error'])\n",
    "NN_model.fit(X,np.array(y))"
   ]
  },
  {
   "cell_type": "code",
   "execution_count": null,
   "metadata": {},
   "outputs": [],
   "source": [
    "test_eval = NN_model.evaluate(Xtest,np.array(ytest), verbose=0)"
   ]
  },
  {
   "cell_type": "code",
   "execution_count": null,
   "metadata": {},
   "outputs": [],
   "source": [
    "ypred = NN_model.predict(Xtest)\n",
    "ypred = [int(i) for i in np.array(ypred)]\n",
    "ytest_1 = [int(i) for i in ytest]"
   ]
  },
  {
   "cell_type": "code",
   "execution_count": 53,
   "metadata": {},
   "outputs": [
    {
     "name": "stdout",
     "output_type": "stream",
     "text": [
      "15493\n"
     ]
    },
    {
     "data": {
      "text/plain": [
       "0.42414893991619484"
      ]
     },
     "execution_count": 53,
     "metadata": {},
     "output_type": "execute_result"
    }
   ],
   "source": [
    "from sklearn.metrics import r2_score\n",
    "m = np.sum((np.array(ytest_1)-np.array(ypred))**2)\n",
    "print(m)\n",
    "r2_score(ytest_1,ypred)"
   ]
  },
  {
   "cell_type": "code",
   "execution_count": 189,
   "metadata": {},
   "outputs": [
    {
     "name": "stdout",
     "output_type": "stream",
     "text": [
      "2523\n"
     ]
    },
    {
     "data": {
      "text/plain": [
       "0.9062239576201226"
      ]
     },
     "execution_count": 189,
     "metadata": {},
     "output_type": "execute_result"
    }
   ],
   "source": [
    "from sklearn.ensemble import RandomForestRegressor\n",
    "regr = RandomForestRegressor(criterion='friedman_mse',max_depth=150,n_estimators=150, min_samples_leaf=1,random_state=69,min_samples_split=2,min_weight_fraction_leaf=0.000001)\n",
    "regr.fit(X,y)\n",
    "ypred = regr.predict(Xtest)\n",
    "ypred = [int(i) for i in np.array(ypred)]\n",
    "ytest_1 = [int(i) for i in ytest]\n",
    "m = np.sum((np.array(ytest_1)-np.array(ypred))**2)\n",
    "print(m)\n",
    "r2_score(ytest_1,ypred)"
   ]
  },
  {
   "cell_type": "code",
   "execution_count": null,
   "metadata": {},
   "outputs": [],
   "source": [
    "m = np.sum((np.array(ytest_1)-np.array(ypred))**2)"
   ]
  },
  {
   "cell_type": "code",
   "execution_count": null,
   "metadata": {},
   "outputs": [],
   "source": [
    "np.mean(np.array(ytest_1)/np.array(ypred))"
   ]
  },
  {
   "cell_type": "code",
   "execution_count": null,
   "metadata": {},
   "outputs": [],
   "source": [
    "def r2_scorer(clf, X, y):\n",
    "    y_pred = clf.predict(X)\n",
    "    y_1 = np.array(y_pred)\n",
    "    y_1 = [int(i) for i in y_1]\n",
    "    y = [int(i) for i in np.array(y)]\n",
    "    m = np.sum((np.array(y_1)-np.array(y))**2)\n",
    "    return m"
   ]
  },
  {
   "cell_type": "code",
   "execution_count": null,
   "metadata": {},
   "outputs": [],
   "source": [
    "filename = 'RF_trail_11.sav'\n",
    "pickle.dump(regr, open(filename, 'wb'))"
   ]
  },
  {
   "cell_type": "code",
   "execution_count": null,
   "metadata": {},
   "outputs": [],
   "source": [
    "le_teams.classes_"
   ]
  },
  {
   "cell_type": "code",
   "execution_count": null,
   "metadata": {},
   "outputs": [],
   "source": [
    "le_players.classes_"
   ]
  },
  {
   "cell_type": "code",
   "execution_count": 50,
   "metadata": {},
   "outputs": [],
   "source": [
    "from sklearn.ensemble import RandomForestRegressor\n",
    "R = RandomForestRegressor(\n",
    "    criterion=\"friedman_mse\",\n",
    "    max_depth=5,\n",
    "    max_features=0.9999999992016524,\n",
    "    min_samples_leaf=4,\n",
    "    min_samples_split=3,\n",
    "    n_estimators=52,\n",
    "    n_jobs=2,\n",
    "    random_state=33,\n",
    ")"
   ]
  },
  {
   "cell_type": "code",
   "execution_count": 60,
   "metadata": {},
   "outputs": [
    {
     "data": {
      "text/plain": [
       "RandomForestRegressor(criterion='friedman_mse', max_depth=5,\n",
       "                      max_features=0.9999999992016524, min_samples_leaf=4,\n",
       "                      min_samples_split=3, n_estimators=52, n_jobs=2,\n",
       "                      random_state=33)"
      ]
     },
     "execution_count": 60,
     "metadata": {},
     "output_type": "execute_result"
    }
   ],
   "source": [
    "R.fit(Xtrain,ytrain)"
   ]
  },
  {
   "cell_type": "code",
   "execution_count": 61,
   "metadata": {},
   "outputs": [
    {
     "name": "stdout",
     "output_type": "stream",
     "text": [
      "17461\n"
     ]
    },
    {
     "data": {
      "text/plain": [
       "0.35100139675186726"
      ]
     },
     "execution_count": 61,
     "metadata": {},
     "output_type": "execute_result"
    }
   ],
   "source": [
    "ypred = R.predict(Xtest)\n",
    "ypred = [int(i) for i in np.array(ypred)]\n",
    "ytest_1 = [int(i) for i in ytest]\n",
    "m = np.sum((np.array(ytest_1)-np.array(ypred))**2)\n",
    "print(m)\n",
    "r2_score(ytest_1,ypred)"
   ]
  },
  {
   "cell_type": "code",
   "execution_count": 200,
   "metadata": {},
   "outputs": [
    {
     "data": {
      "text/plain": [
       "GradientBoostingRegressor(max_depth=100, min_samples_leaf=3, random_state=69)"
      ]
     },
     "execution_count": 200,
     "metadata": {},
     "output_type": "execute_result"
    }
   ],
   "source": [
    "from sklearn.ensemble import GradientBoostingRegressor as GBR\n",
    "G = GBR(max_depth=100,n_estimators=100, min_samples_leaf=3,random_state=69,min_samples_split=2)\n",
    "G.fit(X,y)"
   ]
  },
  {
   "cell_type": "code",
   "execution_count": 201,
   "metadata": {},
   "outputs": [
    {
     "name": "stdout",
     "output_type": "stream",
     "text": [
      "87\n"
     ]
    }
   ],
   "source": [
    "ypred = G.predict(Xtest)\n",
    "ypred_1 = [int(i) for i in np.array(ypred)]\n",
    "ytest_1 = [int(i) for i in ytest]\n",
    "m = np.sum((np.array(ytest_1)-np.array(ypred_1))**2)\n",
    "print(m)"
   ]
  },
  {
   "cell_type": "code",
   "execution_count": 107,
   "metadata": {},
   "outputs": [
    {
     "data": {
      "text/plain": [
       "0.9967663433662112"
      ]
     },
     "execution_count": 107,
     "metadata": {},
     "output_type": "execute_result"
    }
   ],
   "source": [
    "r2_score(ytest_1,ypred_1)"
   ]
  },
  {
   "cell_type": "code",
   "execution_count": 197,
   "metadata": {},
   "outputs": [
    {
     "name": "stdout",
     "output_type": "stream",
     "text": [
      "17351.845350491785\n"
     ]
    }
   ],
   "source": [
    "from sklearn.ensemble import ExtraTreesRegressor as ER\n",
    "E = ER(max_depth=150,n_estimators=150, min_samples_leaf=1,random_state=69,min_samples_split=0.3)\n",
    "E.fit(X,y)\n",
    "ypred = E.predict(Xtest)\n",
    "ypred_1 = [int(i) for i in np.array(ypred)]\n",
    "ytest_1 = [int(i) for i in ytest]\n",
    "m = np.sum((np.array(ytest_1)-np.array(ypred))**2)\n",
    "print(m)"
   ]
  },
  {
   "cell_type": "code",
   "execution_count": 121,
   "metadata": {},
   "outputs": [],
   "source": [
    "filename = 'G_trial_1.sav'\n",
    "pickle.dump(G, open(filename, 'wb'))"
   ]
  },
  {
   "cell_type": "code",
   "execution_count": 135,
   "metadata": {},
   "outputs": [],
   "source": [
    "filename = 'E_trial_2.sav'\n",
    "pickle.dump(E, open(filename, 'wb'))"
   ]
  },
  {
   "cell_type": "code",
   "execution_count": 163,
   "metadata": {},
   "outputs": [],
   "source": [
    "from sklearn.experimental import enable_hist_gradient_boosting  # noqa\n",
    "from sklearn.ensemble import HistGradientBoostingRegressor\n",
    "clf = HistGradientBoostingRegressor(max_depth=50, min_samples_leaf=2,random_state=69,scoring=\"mse\").fit(Xtrain, ytrain)"
   ]
  },
  {
   "cell_type": "code",
   "execution_count": 164,
   "metadata": {},
   "outputs": [
    {
     "name": "stdout",
     "output_type": "stream",
     "text": [
      "18935\n"
     ]
    }
   ],
   "source": [
    "ypred = clf.predict(Xtest)\n",
    "ypred_1 = [int(i) for i in np.array(ypred)]\n",
    "ytest_1 = [int(i) for i in ytest]\n",
    "m = np.sum((np.array(ytest_1)-np.array(ypred_1))**2)\n",
    "print(m)"
   ]
  },
  {
   "cell_type": "code",
   "execution_count": 181,
   "metadata": {},
   "outputs": [],
   "source": [
    "from sklearn.ensemble import AdaBoostRegressor\n",
    "reg = AdaBoostRegressor(loss=\"square\",learning_rate=0.0000000000000000001,n_estimators=150).fit(X,y)"
   ]
  },
  {
   "cell_type": "code",
   "execution_count": 182,
   "metadata": {},
   "outputs": [
    {
     "name": "stdout",
     "output_type": "stream",
     "text": [
      "17689\n"
     ]
    }
   ],
   "source": [
    "ypred = reg.predict(Xtest)\n",
    "ypred_1 = [int(i) for i in np.array(ypred)]\n",
    "ytest_1 = [int(i) for i in ytest]\n",
    "m = np.sum((np.array(ytest_1)-np.array(ypred_1))**2)\n",
    "print(m)"
   ]
  },
  {
   "cell_type": "code",
   "execution_count": null,
   "metadata": {},
   "outputs": [],
   "source": []
  }
 ],
 "metadata": {
  "kernelspec": {
   "display_name": "Python 3",
   "language": "python",
   "name": "python3"
  },
  "language_info": {
   "codemirror_mode": {
    "name": "ipython",
    "version": 3
   },
   "file_extension": ".py",
   "mimetype": "text/x-python",
   "name": "python",
   "nbconvert_exporter": "python",
   "pygments_lexer": "ipython3",
   "version": "3.8.5"
  },
  "toc": {
   "base_numbering": 1,
   "nav_menu": {},
   "number_sections": false,
   "sideBar": false,
   "skip_h1_title": false,
   "title_cell": "Table of Contents",
   "title_sidebar": "Contents",
   "toc_cell": false,
   "toc_position": {},
   "toc_section_display": false,
   "toc_window_display": false
  }
 },
 "nbformat": 4,
 "nbformat_minor": 2
}
