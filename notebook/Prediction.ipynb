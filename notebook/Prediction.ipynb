{
 "cells": [
  {
   "cell_type": "code",
   "execution_count": 42,
   "id": "044dea35",
   "metadata": {},
   "outputs": [],
   "source": [
    "import pickle\n",
    "import numpy as np\n",
    "from sklearn import preprocessing\n",
    "import pandas as pd"
   ]
  },
  {
   "cell_type": "code",
   "execution_count": 135,
   "id": "e8f41245",
   "metadata": {},
   "outputs": [],
   "source": [
    "scalerfile = 'DataScaler.sav'\n",
    "scaler = pickle.load(open(scalerfile, 'rb'))"
   ]
  },
  {
   "cell_type": "code",
   "execution_count": 136,
   "id": "c8bd9f1a",
   "metadata": {},
   "outputs": [],
   "source": [
    "le_stadium = pickle.load(open(\"le_stadium.pkl\", 'rb'))\n",
    "le_teams = preprocessing.LabelEncoder()\n",
    "le_teams.classes_ = np.load(\"le_teams.npy\",allow_pickle=True)\n",
    "le_players = preprocessing.LabelEncoder()\n",
    "le_players.classes_ = np.load(\"le_players.npy\",allow_pickle=True)"
   ]
  },
  {
   "cell_type": "code",
   "execution_count": 153,
   "id": "f858ed9b",
   "metadata": {},
   "outputs": [],
   "source": [
    "data = pd.read_csv('21_inn2.csv')"
   ]
  },
  {
   "cell_type": "code",
   "execution_count": 154,
   "id": "95323f39",
   "metadata": {},
   "outputs": [
    {
     "data": {
      "text/html": [
       "<div>\n",
       "<style scoped>\n",
       "    .dataframe tbody tr th:only-of-type {\n",
       "        vertical-align: middle;\n",
       "    }\n",
       "\n",
       "    .dataframe tbody tr th {\n",
       "        vertical-align: top;\n",
       "    }\n",
       "\n",
       "    .dataframe thead th {\n",
       "        text-align: right;\n",
       "    }\n",
       "</style>\n",
       "<table border=\"1\" class=\"dataframe\">\n",
       "  <thead>\n",
       "    <tr style=\"text-align: right;\">\n",
       "      <th></th>\n",
       "      <th>venue</th>\n",
       "      <th>innings</th>\n",
       "      <th>batting_team</th>\n",
       "      <th>bowling_team</th>\n",
       "      <th>batsmen</th>\n",
       "      <th>bowlers</th>\n",
       "    </tr>\n",
       "  </thead>\n",
       "  <tbody>\n",
       "    <tr>\n",
       "      <th>0</th>\n",
       "      <td>Narendra Modi Stadium</td>\n",
       "      <td>2</td>\n",
       "      <td>Kolkata Knight Riders</td>\n",
       "      <td>Punjab Kings</td>\n",
       "      <td>N Rana,Shubman Gill,RA Tripathi</td>\n",
       "      <td>Mohammed Shami,Fabian Allen,A Singh</td>\n",
       "    </tr>\n",
       "  </tbody>\n",
       "</table>\n",
       "</div>"
      ],
      "text/plain": [
       "                   venue  innings           batting_team  bowling_team  \\\n",
       "0  Narendra Modi Stadium        2  Kolkata Knight Riders  Punjab Kings   \n",
       "\n",
       "                           batsmen                              bowlers  \n",
       "0  N Rana,Shubman Gill,RA Tripathi  Mohammed Shami,Fabian Allen,A Singh  "
      ]
     },
     "execution_count": 154,
     "metadata": {},
     "output_type": "execute_result"
    }
   ],
   "source": [
    "data.head()"
   ]
  },
  {
   "cell_type": "code",
   "execution_count": 155,
   "id": "1a34cc39",
   "metadata": {},
   "outputs": [],
   "source": [
    "X = data.values.tolist()[0]\n",
    "X[4] = X[4].split(',')\n",
    "X[5] = X[5].split(',')"
   ]
  },
  {
   "cell_type": "code",
   "execution_count": 156,
   "id": "36647a03",
   "metadata": {},
   "outputs": [
    {
     "data": {
      "text/plain": [
       "['Narendra Modi Stadium',\n",
       " 2,\n",
       " 'Kolkata Knight Riders',\n",
       " 'Punjab Kings',\n",
       " ['N Rana', 'Shubman Gill', 'RA Tripathi'],\n",
       " ['Mohammed Shami', 'Fabian Allen', 'A Singh']]"
      ]
     },
     "execution_count": 156,
     "metadata": {},
     "output_type": "execute_result"
    }
   ],
   "source": [
    "X"
   ]
  },
  {
   "cell_type": "code",
   "execution_count": 157,
   "id": "761de668",
   "metadata": {},
   "outputs": [],
   "source": [
    "max_bat = 9\n",
    "max_bowl = 6"
   ]
  },
  {
   "cell_type": "code",
   "execution_count": 158,
   "id": "2e73d35d",
   "metadata": {},
   "outputs": [],
   "source": [
    "    for j in range(max_bat-len(X[4])):\n",
    "        X[4].extend([\"_\"])\n",
    "    for j in range(max_bowl-len(X[5])):\n",
    "        X[5].extend([\"_\"])        "
   ]
  },
  {
   "cell_type": "code",
   "execution_count": 159,
   "id": "ee60cbb7",
   "metadata": {},
   "outputs": [
    {
     "data": {
      "text/plain": [
       "['Mohammed Shami', 'Fabian Allen', 'A Singh', '_', '_', '_']"
      ]
     },
     "execution_count": 159,
     "metadata": {},
     "output_type": "execute_result"
    }
   ],
   "source": [
    "T = X.copy()\n",
    "T.extend(T[4])\n",
    "T.pop(4)\n",
    "T.extend(T[4])\n",
    "T.pop(4)   "
   ]
  },
  {
   "cell_type": "code",
   "execution_count": 160,
   "id": "28a5460a",
   "metadata": {},
   "outputs": [],
   "source": [
    "X = T"
   ]
  },
  {
   "cell_type": "code",
   "execution_count": 161,
   "id": "b35af985",
   "metadata": {},
   "outputs": [],
   "source": [
    "def inpu(X):\n",
    "    pc = le_players.classes_.shape[0]-1\n",
    "    X_m = np.zeros(len(X))\n",
    "    for i in range(len(X)):\n",
    "        if (i==0):\n",
    "            X_m[i] = le_stadium[X[i]]\n",
    "        elif(i==2 or i==3):\n",
    "            if(X[i]==\"Punjab Kings\"):\n",
    "                X_m[i] = np.where(le_teams.classes_ == \"Kings XI Punjab\")[0][0]\n",
    "            else:\n",
    "                X_m[i] = np.where(le_teams.classes_ == X[i])[0][0]\n",
    "        elif(i>3):\n",
    "            if X[i] not in le_players.classes_: \n",
    "                X_m[i] = pc\n",
    "                pc+=1\n",
    "            else:\n",
    "                X_m[i] = np.where(le_players.classes_ == X[i])[0][0]\n",
    "            \n",
    "    return X_m        "
   ]
  },
  {
   "cell_type": "code",
   "execution_count": 162,
   "id": "e81fccd5",
   "metadata": {},
   "outputs": [],
   "source": [
    "x_t = inpu(X)"
   ]
  },
  {
   "cell_type": "code",
   "execution_count": 163,
   "id": "acd59482",
   "metadata": {},
   "outputs": [
    {
     "data": {
      "text/plain": [
       "array([ 35.,   0.,   7.,   5., 345., 520., 406., 583., 583., 583., 583.,\n",
       "       583., 583., 338., 584.,  13., 583., 583., 583.])"
      ]
     },
     "execution_count": 163,
     "metadata": {},
     "output_type": "execute_result"
    }
   ],
   "source": [
    "x_t"
   ]
  },
  {
   "cell_type": "code",
   "execution_count": 164,
   "id": "8d7a47e3",
   "metadata": {},
   "outputs": [],
   "source": [
    "xx = np.where(x_t==le_players.classes_.shape[0]-1,-1, x_t)"
   ]
  },
  {
   "cell_type": "code",
   "execution_count": 165,
   "id": "80fce9a8",
   "metadata": {},
   "outputs": [
    {
     "data": {
      "text/plain": [
       "array([ 35.,   0.,   7.,   5., 345., 520., 406.,  -1.,  -1.,  -1.,  -1.,\n",
       "        -1.,  -1., 338., 584.,  13.,  -1.,  -1.,  -1.])"
      ]
     },
     "execution_count": 165,
     "metadata": {},
     "output_type": "execute_result"
    }
   ],
   "source": [
    "xx"
   ]
  },
  {
   "cell_type": "code",
   "execution_count": 166,
   "id": "4495ba2c",
   "metadata": {},
   "outputs": [],
   "source": [
    "filename = 'RF_trail_10.sav'\n",
    "loaded_model = pickle.load(open(filename, 'rb'))"
   ]
  },
  {
   "cell_type": "code",
   "execution_count": 167,
   "id": "c94a1741",
   "metadata": {},
   "outputs": [],
   "source": [
    "y = int(np.ceil(loaded_model.predict(xx.reshape(-1,1).T.astype(int))[0]))"
   ]
  },
  {
   "cell_type": "code",
   "execution_count": 168,
   "id": "a83050a6",
   "metadata": {},
   "outputs": [
    {
     "name": "stdout",
     "output_type": "stream",
     "text": [
      "49\n"
     ]
    }
   ],
   "source": [
    "print(y)"
   ]
  }
 ],
 "metadata": {
  "kernelspec": {
   "display_name": "Python 3",
   "language": "python",
   "name": "python3"
  },
  "language_info": {
   "codemirror_mode": {
    "name": "ipython",
    "version": 3
   },
   "file_extension": ".py",
   "mimetype": "text/x-python",
   "name": "python",
   "nbconvert_exporter": "python",
   "pygments_lexer": "ipython3",
   "version": "3.8.5"
  },
  "toc": {
   "base_numbering": 1,
   "nav_menu": {},
   "number_sections": false,
   "sideBar": false,
   "skip_h1_title": false,
   "title_cell": "Table of Contents",
   "title_sidebar": "Contents",
   "toc_cell": false,
   "toc_position": {},
   "toc_section_display": false,
   "toc_window_display": false
  }
 },
 "nbformat": 4,
 "nbformat_minor": 5
}
